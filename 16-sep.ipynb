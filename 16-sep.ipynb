{
 "cells": [
  {
   "cell_type": "markdown",
   "metadata": {},
   "source": [
    "# Day Objectives:\n",
    "   - anaconda installation\n",
    "   - about anaconda navigator\n",
    "   - diference between python IDLE and jupitor notebook\n",
    "   - about jupitor notebook\n",
    "   - using jupitor note book\n",
    "   - code mode and markdown mode"
   ]
  },
  {
   "cell_type": "code",
   "execution_count": 3,
   "metadata": {},
   "outputs": [
    {
     "name": "stdout",
     "output_type": "stream",
     "text": [
      "Hi pavithra,welcome to python\n",
      "all the best for ur learning\n"
     ]
    }
   ],
   "source": [
    "print(\"Hi pavithra,welcome to python\")\n",
    "print(\"all the best for ur learning\")"
   ]
  },
  {
   "cell_type": "code",
   "execution_count": 4,
   "metadata": {},
   "outputs": [
    {
     "data": {
      "text/plain": [
       "5"
      ]
     },
     "execution_count": 4,
     "metadata": {},
     "output_type": "execute_result"
    }
   ],
   "source": [
    "2+3"
   ]
  },
  {
   "cell_type": "markdown",
   "metadata": {},
   "source": [
    "shift+enter         next shell and output"
   ]
  },
  {
   "cell_type": "code",
   "execution_count": 8,
   "metadata": {},
   "outputs": [
    {
     "data": {
      "text/plain": [
       "112"
      ]
     },
     "execution_count": 8,
     "metadata": {},
     "output_type": "execute_result"
    }
   ],
   "source": [
    "111+1"
   ]
  },
  {
   "cell_type": "markdown",
   "metadata": {},
   "source": [
    "ctrl+enter          only output"
   ]
  },
  {
   "cell_type": "markdown",
   "metadata": {},
   "source": [
    "(#)used for the size of the text ,h1 size==>#,h2 size==>##,........,h6 size==>######    Synatx: # Text...."
   ]
  },
  {
   "cell_type": "markdown",
   "metadata": {},
   "source": [
    "# hii\n",
    "## hii\n",
    "### hii\n",
    "#### hii\n",
    "##### hii\n",
    "###### hii\n",
    "<p>hiii i am using paragraph tag</p>\n",
    "<p><b>this is second paragraph tag</b></p>\n",
    "<img src=\"python.jpg\" height=\"300px\" width=\"300px\">\n",
    "\n",
    "# HTML List\n",
    "- Unoredered List\n",
    "    - ul tag with li tag\n",
    "- Ordered List\n",
    "    - ol tag with li tag\n",
    "<a href=\"python.jpg\">Click for advance</a>\n"
   ]
  }
 ],
 "metadata": {
  "kernelspec": {
   "display_name": "Python 3",
   "language": "python",
   "name": "python3"
  },
  "language_info": {
   "codemirror_mode": {
    "name": "ipython",
    "version": 3
   },
   "file_extension": ".py",
   "mimetype": "text/x-python",
   "name": "python",
   "nbconvert_exporter": "python",
   "pygments_lexer": "ipython3",
   "version": "3.7.3"
  }
 },
 "nbformat": 4,
 "nbformat_minor": 2
}
