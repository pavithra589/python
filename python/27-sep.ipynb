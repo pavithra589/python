{
 "cells": [
  {
   "cell_type": "code",
   "execution_count": 1,
   "metadata": {},
   "outputs": [
    {
     "name": "stdout",
     "output_type": "stream",
     "text": [
      "        * \r\n",
      "       * * \r\n",
      "      * * * \r\n",
      "     * * * * \r\n",
      "    * * * * * \r\n"
     ]
    }
   ],
   "source": [
    "def triangle(n): \n",
    "      \n",
    "    # number of spaces \n",
    "    k = 2*n - 2\n",
    "  \n",
    "    # outer loop to handle number of rows \n",
    "    for i in range(0, n): \n",
    "      \n",
    "        # inner loop to handle number spaces \n",
    "        # values changing acc. to requirement \n",
    "        for j in range(0, k): \n",
    "            print(end=\" \") \n",
    "      \n",
    "        # decrementing k after each loop \n",
    "        k = k - 1\n",
    "      \n",
    "        # inner loop to handle number of columns \n",
    "        # values changing acc. to outer loop \n",
    "        for j in range(0, i+1): \n",
    "          \n",
    "            # printing stars \n",
    "            print(\"* \", end=\"\") \n",
    "      \n",
    "        # ending line after each row \n",
    "        print(\"\\r\") \n",
    "  \n",
    "# Driver Code \n",
    "n = 5\n",
    "triangle(n) \n"
   ]
  },
  {
   "cell_type": "markdown",
   "metadata": {},
   "source": [
    "# FILES:\n",
    "- Collection of data\n",
    "- file types\n",
    "    - .csv\n",
    "    - .html\n",
    "    - .exe\n",
    "    - .txt\n",
    "    - .pdf\n",
    "## PROCEDURE TO WORK ON FILES:\n",
    "    #### OPEN A FILE\n",
    "    #### PERFORM ACTION BASED ON OR REQIRUMEMNTS\n",
    "    #### CLOSE A FILE\n",
    "    "
   ]
  },
  {
   "cell_type": "code",
   "execution_count": 5,
   "metadata": {},
   "outputs": [
    {
     "name": "stdout",
     "output_type": "stream",
     "text": [
      "HI,\n",
      "HELLO PAVITHRA\n",
      "WELCOME TO PYTHON LAB\n"
     ]
    }
   ],
   "source": [
    "fh=open(\"mydata.txt\")\n",
    "print(fh.read())\n",
    "fh.close()"
   ]
  },
  {
   "cell_type": "code",
   "execution_count": 7,
   "metadata": {},
   "outputs": [
    {
     "name": "stdout",
     "output_type": "stream",
     "text": [
      "HI,\n",
      "\n",
      "HELLO PAVITHRA\n",
      "\n",
      "WELCOME TO PYTHON LAB\n"
     ]
    }
   ],
   "source": [
    "fh=open(\"mydata.txt\")\n",
    "for line in fh:\n",
    "    print(line)\n",
    "#print(fh.read())\n",
    "fh.close()"
   ]
  },
  {
   "cell_type": "code",
   "execution_count": 8,
   "metadata": {},
   "outputs": [
    {
     "name": "stdout",
     "output_type": "stream",
     "text": [
      "HI,\n",
      "HELLO PAVITHRA\n",
      "WELCOME TO PYTHON LAB\n"
     ]
    }
   ],
   "source": [
    "fh=open(\"mydata.txt\")\n",
    "for line in fh:\n",
    "    print(line.rstrip())\n",
    "#print(fh.read())\n",
    "fh.close()"
   ]
  },
  {
   "cell_type": "code",
   "execution_count": 12,
   "metadata": {},
   "outputs": [
    {
     "name": "stdout",
     "output_type": "stream",
     "text": [
      "pavithra\n"
     ]
    }
   ],
   "source": [
    "fh=open(\"mydata1.txt\",'w')\n",
    "txt=input()\n",
    "fh.write(txt)\n",
    "fh.close()   # without the close the content will not we written into the file"
   ]
  },
  {
   "cell_type": "code",
   "execution_count": 16,
   "metadata": {},
   "outputs": [
    {
     "name": "stdout",
     "output_type": "stream",
     "text": [
      "kkkkkkkkkkkkkkkk\n"
     ]
    }
   ],
   "source": [
    "fh=open(\"mydata1.txt\",'a')\n",
    "txt=input()\n",
    "fh.write(\"\\n\"+txt)\n",
    "fh.close() "
   ]
  },
  {
   "cell_type": "code",
   "execution_count": 17,
   "metadata": {},
   "outputs": [
    {
     "name": "stdout",
     "output_type": "stream",
     "text": [
      "uhgytrdrt\n"
     ]
    }
   ],
   "source": [
    "fh=open(\"mydata1.txt\",'a')\n",
    "txt=input()\n",
    "\n",
    "\n",
    "\n",
    "\n",
    "\n",
    "\n",
    "\n",
    "\n",
    "\n",
    "\n",
    "\n",
    "\n",
    "\n",
    "fh.close() "
   ]
  },
  {
   "cell_type": "code",
   "execution_count": 1,
   "metadata": {
    "scrolled": true
   },
   "outputs": [
    {
     "name": "stdout",
     "output_type": "stream",
     "text": [
      "\n",
      "dytkiuyi ucydikuy\n"
     ]
    }
   ],
   "source": [
    "path='textfiles/sample.txt'\n",
    "with open(path,'r') as fh: # with is used(noo need to close file)\n",
    "    for line in fh:\n",
    "        print(line.rstrip())\n",
    "    #print(fh.read())"
   ]
  },
  {
   "cell_type": "code",
   "execution_count": 1,
   "metadata": {},
   "outputs": [
    {
     "name": "stdout",
     "output_type": "stream",
     "text": [
      "dytkiuyi ucydikuy\n"
     ]
    }
   ],
   "source": [
    "path='textfiles/sample.txt'\n",
    "with open(path,'w') as fh:\n",
    "    txt=input()# with is used(noo need to close file)\n",
    "    fh.write(\"\\n\"+txt)"
   ]
  },
  {
   "cell_type": "code",
   "execution_count": null,
   "metadata": {},
   "outputs": [],
   "source": []
  }
 ],
 "metadata": {
  "kernelspec": {
   "display_name": "Python 3",
   "language": "python",
   "name": "python3"
  },
  "language_info": {
   "codemirror_mode": {
    "name": "ipython",
    "version": 3
   },
   "file_extension": ".py",
   "mimetype": "text/x-python",
   "name": "python",
   "nbconvert_exporter": "python",
   "pygments_lexer": "ipython3",
   "version": "3.7.3"
  }
 },
 "nbformat": 4,
 "nbformat_minor": 2
}
