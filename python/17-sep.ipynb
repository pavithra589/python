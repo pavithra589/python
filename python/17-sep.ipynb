{
 "cells": [
  {
   "cell_type": "markdown",
   "metadata": {},
   "source": [
    "# day objectives\n",
    "- python introduction\n",
    "- python variables\n",
    "- operators\n",
    "- string and string functions"
   ]
  },
  {
   "cell_type": "markdown",
   "metadata": {},
   "source": [
    "##  python introduction\n",
    "### defining python\n",
    "- high level language\n",
    "- interpreter\n",
    "- oop's\n",
    "- multipurpose\n",
    "- dynamic\n"
   ]
  },
  {
   "cell_type": "code",
   "execution_count": 6,
   "metadata": {},
   "outputs": [
    {
     "name": "stdout",
     "output_type": "stream",
     "text": [
      "<class 'int'>\n",
      "<class 'str'>\n"
     ]
    }
   ],
   "source": [
    "c=0\n",
    "print(type(c))\n",
    "c='p'\n",
    "print(type(c))"
   ]
  },
  {
   "cell_type": "markdown",
   "metadata": {},
   "source": [
    "# Variable\n",
    "- we can store values temporarily\n",
    "## Variable assignments\n",
    "- assigning single value to multiple variables\n",
    "- assigning differen types of values to different variables ina line\n",
    "- swaping of two variables without using teporary variable\n"
   ]
  },
  {
   "cell_type": "code",
   "execution_count": 18,
   "metadata": {},
   "outputs": [
    {
     "name": "stdout",
     "output_type": "stream",
     "text": [
      "10 10 10\n",
      "pavithra , <class 'str'>\n",
      "99.9 , <class 'float'>\n",
      "521 , <class 'int'>\n"
     ]
    }
   ],
   "source": [
    "a=b=c=10\n",
    "print(a,b,c)\n",
    "a,b,c\n",
    "name,age,rollnum=\"pavithra\",99.9,521\n",
    "\n",
    "print(name,\",\",type(name))\n",
    "print(age,\",\",type(age))\n",
    "print(rollnum,\",\",type(rollnum))"
   ]
  },
  {
   "cell_type": "code",
   "execution_count": 22,
   "metadata": {},
   "outputs": [
    {
     "data": {
      "text/plain": [
       "(20, 10)"
      ]
     },
     "execution_count": 22,
     "metadata": {},
     "output_type": "execute_result"
    }
   ],
   "source": [
    "a,b=10,20\n",
    "b,a=a,b\n",
    "(a,b)"
   ]
  },
  {
   "cell_type": "code",
   "execution_count": 26,
   "metadata": {},
   "outputs": [
    {
     "data": {
      "text/plain": [
       "(20, 10)"
      ]
     },
     "execution_count": 26,
     "metadata": {},
     "output_type": "execute_result"
    }
   ],
   "source": [
    "a,b=10,20\n",
    "a=a+b\n",
    "b=a-b\n",
    "a=a-b\n",
    "a,b"
   ]
  },
  {
   "cell_type": "markdown",
   "metadata": {},
   "source": [
    "## Reading values from user\n",
    "- in python we can use input() for reading values from user"
   ]
  },
  {
   "cell_type": "code",
   "execution_count": 28,
   "metadata": {},
   "outputs": [
    {
     "name": "stdout",
     "output_type": "stream",
     "text": [
      "enter  a value345\n",
      "enter  a value678\n"
     ]
    },
    {
     "data": {
      "text/plain": [
       "(345, '678')"
      ]
     },
     "execution_count": 28,
     "metadata": {},
     "output_type": "execute_result"
    }
   ],
   "source": [
    "a=int(input(\"enter  a value\"))\n",
    "\n",
    "b=input(\"enter  a value\")\n",
    "a,b"
   ]
  },
  {
   "cell_type": "code",
   "execution_count": 29,
   "metadata": {},
   "outputs": [
    {
     "name": "stdout",
     "output_type": "stream",
     "text": [
      "enter namepavithra \n"
     ]
    },
    {
     "data": {
      "text/plain": [
       "'pavithra '"
      ]
     },
     "execution_count": 29,
     "metadata": {},
     "output_type": "execute_result"
    }
   ],
   "source": [
    "name = str(input(\"enter name\"))\n",
    "name"
   ]
  },
  {
   "cell_type": "markdown",
   "metadata": {},
   "source": [
    "## Modes of Execution \n",
    "### Interactive Mode\n",
    "- we can write something and we can see result there only\n",
    "### Scripting  Mode\n",
    "- we can build a logic in file(filename.py)"
   ]
  },
  {
   "cell_type": "markdown",
   "metadata": {},
   "source": [
    "#`# Operators\n",
    "- wecan perform arithmetic and logical operators\n",
    "### Types:\n",
    "- Arithematic -->+(add),-(sub),/(division),//(floor division),*(mul),**(exponential),%(mod)\n",
    "- logical   --> and ,or ,not\n",
    "- Relational --> ==,<,>,!=,<=,>=\n",
    "- Membership\n",
    "- Identity \n",
    "- Assignment \n",
    "- Bitwise    --> &,|,<<,>>"
   ]
  }
 ],
 "metadata": {
  "kernelspec": {
   "display_name": "Python 3",
   "language": "python",
   "name": "python3"
  },
  "language_info": {
   "codemirror_mode": {
    "name": "ipython",
    "version": 3
   },
   "file_extension": ".py",
   "mimetype": "text/x-python",
   "name": "python",
   "nbconvert_exporter": "python",
   "pygments_lexer": "ipython3",
   "version": "3.7.3"
  }
 },
 "nbformat": 4,
 "nbformat_minor": 2
}
