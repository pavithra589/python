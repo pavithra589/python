{
 "cells": [
  {
   "cell_type": "markdown",
   "metadata": {},
   "source": [
    "# DAY  OBJECTIVES\n",
    "## PACKAGE\n",
    "    -PACKAGE IS A FOLDER IN THAT WE CAN STORE PYTHON FILES\n",
    "## MODULE\n",
    "    - MODULES ID A COLLECTION OF FUNCTIONS OR CLASSES\n",
    "    - MODULE TYPES\n",
    "        - DEFAULT MODULES(OS,RE(regular expression),SQLITE ETC)\n",
    "        - USER DEFINED MODULES:user create his/her own modules"
   ]
  },
  {
   "cell_type": "code",
   "execution_count": 1,
   "metadata": {},
   "outputs": [
    {
     "name": "stdout",
     "output_type": "stream",
     "text": [
      "5\n",
      "False\n"
     ]
    }
   ],
   "source": [
    "import mymath\n",
    "n=int(input())\n",
    "print(mymath.iseven(n))"
   ]
  },
  {
   "cell_type": "code",
   "execution_count": 1,
   "metadata": {},
   "outputs": [
    {
     "name": "stdout",
     "output_type": "stream",
     "text": [
      "True\n"
     ]
    }
   ],
   "source": [
    "\n",
    "import mymath\n",
    "dir(mymath)\n",
    "print(mymath.isprime(9))"
   ]
  },
  {
   "cell_type": "code",
   "execution_count": 1,
   "metadata": {},
   "outputs": [
    {
     "name": "stdout",
     "output_type": "stream",
     "text": [
      "6\n",
      "prime= False            even = True\n"
     ]
    }
   ],
   "source": [
    "from mymath import isprime,iseven\n",
    "n=int(input())\n",
    "print(\"prime=\",isprime(n),\"           even =\",iseven(n))"
   ]
  },
  {
   "cell_type": "code",
   "execution_count": 6,
   "metadata": {},
   "outputs": [
    {
     "name": "stdout",
     "output_type": "stream",
     "text": [
      "16\n"
     ]
    }
   ],
   "source": [
    "from mymodules import mymath1 as m\n",
    "dir(m)\n",
    "#n=int(input())\n",
    "print(m.power(2,4))"
   ]
  },
  {
   "cell_type": "code",
   "execution_count": 2,
   "metadata": {},
   "outputs": [
    {
     "name": "stdout",
     "output_type": "stream",
     "text": [
      "enter radius5\n",
      "78.5\n"
     ]
    }
   ],
   "source": [
    "from mymodules import mymath1 as p\n",
    "n=int(input(\"enter radius\"))\n",
    "print(p.radius(n))"
   ]
  },
  {
   "cell_type": "code",
   "execution_count": null,
   "metadata": {},
   "outputs": [],
   "source": []
  }
 ],
 "metadata": {
  "kernelspec": {
   "display_name": "Python 3",
   "language": "python",
   "name": "python3"
  },
  "language_info": {
   "codemirror_mode": {
    "name": "ipython",
    "version": 3
   },
   "file_extension": ".py",
   "mimetype": "text/x-python",
   "name": "python",
   "nbconvert_exporter": "python",
   "pygments_lexer": "ipython3",
   "version": "3.7.3"
  }
 },
 "nbformat": 4,
 "nbformat_minor": 2
}
