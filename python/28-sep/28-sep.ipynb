{
 "cells": [
  {
   "cell_type": "markdown",
   "metadata": {},
   "source": [
    "# ASSIGNMENT 1"
   ]
  },
  {
   "cell_type": "code",
   "execution_count": 2,
   "metadata": {},
   "outputs": [],
   "source": [
    " import re"
   ]
  },
  {
   "cell_type": "code",
   "execution_count": 27,
   "metadata": {},
   "outputs": [
    {
     "name": "stdout",
     "output_type": "stream",
     "text": [
      "enter name:    loiugh\n",
      "enter mobile number: 7412589635\n"
     ]
    }
   ],
   "source": [
    "fh=open(\"contact.txt\",'a')\n",
    "name=input(\"enter name:    \")\n",
    "mobile=input(\"enter mobile number: \")\n",
    "c=0\n",
    "if re.search('[a-zA-Z ]',name):\n",
    "    c+=1\n",
    "else:\n",
    "    print(\" invalid name \")\n",
    "if re.search('^[6-9][0-9]{9}$',mobile):\n",
    "    c+=1\n",
    "else:\n",
    "    print(\" invalid mobile number\")\n",
    "if c==2:\n",
    "    fh.write(name+\"\\t\"+mobile+\"\\n\")"
   ]
  },
  {
   "cell_type": "code",
   "execution_count": 36,
   "metadata": {},
   "outputs": [
    {
     "name": "stdout",
     "output_type": "stream",
     "text": [
      "uiuigjhbkjh\t7845963210\n",
      "uhyuhu\t7412589036\n",
      "popopo\t7894569874\n",
      "poppoyut\t7410258963\n",
      "ureiy\t7412588886\n",
      "loiugh\t7412589635\n"
     ]
    }
   ],
   "source": [
    "fh=open(\"contact.txt\",'r')\n",
    "for line in fh:\n",
    "        print(line.rstrip()) "
   ]
  },
  {
   "cell_type": "code",
   "execution_count": 37,
   "metadata": {},
   "outputs": [
    {
     "name": "stdout",
     "output_type": "stream",
     "text": [
      "enter a name to check: popopo\n",
      "7894569874\n"
     ]
    }
   ],
   "source": [
    "fh=open(\"contact.txt\",'r')\n",
    "n=input(\"enter a name to check: \")\n",
    "inc=0\n",
    "for line in fh:\n",
    "    line=line.split()\n",
    "    if line[0]==n:\n",
    "        print(line[1])"
   ]
  },
  {
   "cell_type": "markdown",
   "metadata": {},
   "source": [
    "# ASSIGNMENT  2\n"
   ]
  },
  {
   "cell_type": "code",
   "execution_count": 45,
   "metadata": {},
   "outputs": [],
   "source": [
    "import random\n",
    "fh=open(\"marks.txt\",'w')\n",
    "for i in range(0,60):\n",
    "    mark=random.randint(0,100)\n",
    "    fh.write(str(mark)+\"\\n\")\n"
   ]
  },
  {
   "cell_type": "code",
   "execution_count": 46,
   "metadata": {},
   "outputs": [
    {
     "name": "stdout",
     "output_type": "stream",
     "text": [
      "32\n",
      "45\n",
      "16\n",
      "8\n",
      "85\n",
      "57\n",
      "9\n",
      "81\n",
      "35\n",
      "26\n",
      "38\n",
      "22\n",
      "4\n",
      "39\n",
      "6\n",
      "45\n",
      "51\n",
      "100\n",
      "61\n",
      "43\n",
      "55\n",
      "93\n",
      "20\n",
      "99\n",
      "68\n",
      "97\n",
      "18\n",
      "89\n",
      "26\n",
      "58\n",
      "69\n",
      "79\n",
      "93\n",
      "50\n",
      "5\n",
      "39\n",
      "89\n",
      "76\n",
      "98\n",
      "82\n",
      "25\n",
      "42\n",
      "46\n",
      "5\n",
      "2\n",
      "54\n",
      "78\n",
      "74\n",
      "35\n",
      "91\n",
      "45\n",
      "99\n",
      "76\n",
      "87\n",
      "83\n",
      "30\n",
      "54\n",
      "100\n",
      "76\n",
      "77\n"
     ]
    }
   ],
   "source": [
    "fh=open(\"contact.txt\",'r')\n",
    "for line in fh:\n",
    "        print(line.rstrip())\n"
   ]
  },
  {
   "cell_type": "code",
   "execution_count": 53,
   "metadata": {},
   "outputs": [
    {
     "name": "stdout",
     "output_type": "stream",
     "text": [
      "16\n"
     ]
    }
   ],
   "source": [
    "fh=open(\"marks.txt\",'r')\n",
    "\n",
    "incre=0\n",
    "for line in fh:\n",
    "    lin=int(line)\n",
    "    if lin<35:\n",
    "        incre+=1\n",
    "print( incre)"
   ]
  },
  {
   "cell_type": "code",
   "execution_count": 59,
   "metadata": {},
   "outputs": [
    {
     "name": "stdout",
     "output_type": "stream",
     "text": [
      "44\n"
     ]
    }
   ],
   "source": [
    "fh=open(\"marks.txt\",'r')\n",
    "\n",
    "incre=0\n",
    "for line in fh:\n",
    "    lin=int(line)\n",
    "    if lin>=35:\n",
    "        incre+=1\n",
    "print(incre)"
   ]
  },
  {
   "cell_type": "code",
   "execution_count": 56,
   "metadata": {},
   "outputs": [
    {
     "name": "stdout",
     "output_type": "stream",
     "text": [
      "16\n"
     ]
    }
   ],
   "source": [
    "fh=open(\"marks.txt\",'r')\n",
    "\n",
    "incre=0\n",
    "for line in fh:\n",
    "    lin=int(line)\n",
    "    if lin>80:\n",
    "        incre+=1\n",
    "print( incre)"
   ]
  },
  {
   "cell_type": "code",
   "execution_count": null,
   "metadata": {},
   "outputs": [],
   "source": []
  }
 ],
 "metadata": {
  "kernelspec": {
   "display_name": "Python 3",
   "language": "python",
   "name": "python3"
  }
 },
 "nbformat": 4,
 "nbformat_minor": 2
}
