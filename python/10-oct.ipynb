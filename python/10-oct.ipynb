{
 "cells": [
  {
   "cell_type": "code",
   "execution_count": 42,
   "metadata": {},
   "outputs": [
    {
     "data": {
      "text/plain": [
       "{'A': 'E',\n",
       " 'B': 'F',\n",
       " 'C': 'G',\n",
       " 'D': 'H',\n",
       " 'E': 'I',\n",
       " 'F': 'J',\n",
       " 'G': 'K',\n",
       " 'H': 'L',\n",
       " 'I': 'M',\n",
       " 'J': 'N',\n",
       " 'K': 'O',\n",
       " 'L': 'P',\n",
       " 'M': 'Q',\n",
       " 'N': 'R',\n",
       " 'O': 'S',\n",
       " 'P': 'T',\n",
       " 'Q': 'U',\n",
       " 'R': 'V',\n",
       " 'S': 'W',\n",
       " 'T': 'X',\n",
       " 'U': 'Y',\n",
       " 'V': 'Z',\n",
       " 'W': 'A',\n",
       " 'X': 'B',\n",
       " 'Y': 'C',\n",
       " 'Z': 'D'}"
      ]
     },
     "execution_count": 42,
     "metadata": {},
     "output_type": "execute_result"
    }
   ],
   "source": [
    "d={}\n",
    "for i in range(65,91):\n",
    "    if i>86:\n",
    "        d[chr(i)]=chr(i-22)\n",
    "    else:\n",
    "        d[chr(i)]=chr(i+4)\n",
    "d"
   ]
  },
  {
   "cell_type": "code",
   "execution_count": 3,
   "metadata": {},
   "outputs": [
    {
     "name": "stdout",
     "output_type": "stream",
     "text": [
      "KSRMCOLLEGEOFENGINEERING OWVQGSPPIKISJIRKMRIIVMRK\n"
     ]
    }
   ],
   "source": [
    "ormsg=\"KSRMCOLLEGEOFENGINEERING\"\n",
    "emsg=''\n",
    "for i in ormsg:\n",
    "    emsg+=d[i]\n",
    "print(ormsg,emsg)\n",
    "    \n"
   ]
  },
  {
   "cell_type": "code",
   "execution_count": 5,
   "metadata": {},
   "outputs": [
    {
     "data": {
      "text/plain": [
       "{'A': 'W',\n",
       " 'B': 'X',\n",
       " 'C': 'Y',\n",
       " 'D': 'Z',\n",
       " 'E': 'A',\n",
       " 'F': 'B',\n",
       " 'G': 'C',\n",
       " 'H': 'D',\n",
       " 'I': 'E',\n",
       " 'J': 'F',\n",
       " 'K': 'G',\n",
       " 'L': 'H',\n",
       " 'M': 'I',\n",
       " 'N': 'J',\n",
       " 'O': 'K',\n",
       " 'P': 'L',\n",
       " 'Q': 'M',\n",
       " 'R': 'N',\n",
       " 'S': 'O',\n",
       " 'T': 'P',\n",
       " 'U': 'Q',\n",
       " 'V': 'R',\n",
       " 'W': 'S',\n",
       " 'X': 'T',\n",
       " 'Y': 'U',\n",
       " 'Z': 'V'}"
      ]
     },
     "execution_count": 5,
     "metadata": {},
     "output_type": "execute_result"
    }
   ],
   "source": [
    "e={}\n",
    "for i in range(65,91):\n",
    "    if i < 69:\n",
    "        e[chr(i)]=chr(i+22)\n",
    "    else:\n",
    "        e[chr(i)]=chr(i-4)\n",
    "e"
   ]
  },
  {
   "cell_type": "code",
   "execution_count": 6,
   "metadata": {},
   "outputs": [
    {
     "name": "stdout",
     "output_type": "stream",
     "text": [
      "KSRMCOLLEGEOFENGINEERING OWVQGSPPIKISJIRKMRIIVMRK\n"
     ]
    }
   ],
   "source": [
    "ormg=\"\"\n",
    "for i in emsg:\n",
    "    ormg+=e[i]\n",
    "print(ormg,emsg)\n",
    "    "
   ]
  },
  {
   "cell_type": "code",
   "execution_count": 44,
   "metadata": {},
   "outputs": [
    {
     "data": {
      "text/plain": [
       "{'a': 'e',\n",
       " 'b': 'f',\n",
       " 'c': 'g',\n",
       " 'd': 'h',\n",
       " 'e': 'i',\n",
       " 'f': 'j',\n",
       " 'g': 'k',\n",
       " 'h': 'l',\n",
       " 'i': 'm',\n",
       " 'j': 'n',\n",
       " 'k': 'o',\n",
       " 'l': 'p',\n",
       " 'm': 'q',\n",
       " 'n': 'r',\n",
       " 'o': 's',\n",
       " 'p': 't',\n",
       " 'q': 'u',\n",
       " 'r': 'v',\n",
       " 's': 'w',\n",
       " 't': 'x',\n",
       " 'u': 'y',\n",
       " 'v': 'z',\n",
       " 'w': 'a',\n",
       " 'x': 'b',\n",
       " 'y': 'c',\n",
       " 'z': 'd'}"
      ]
     },
     "execution_count": 44,
     "metadata": {},
     "output_type": "execute_result"
    }
   ],
   "source": [
    "ds={}\n",
    "for i in range(97,123):\n",
    "    if i>118:\n",
    "        ds[chr(i)]=chr(i-22)\n",
    "    else:\n",
    "        ds[chr(i)]=chr(i+4)\n",
    "ds"
   ]
  },
  {
   "cell_type": "code",
   "execution_count": 20,
   "metadata": {},
   "outputs": [
    {
     "name": "stdout",
     "output_type": "stream",
     "text": [
      "pavithra tezmxlve\n"
     ]
    }
   ],
   "source": [
    "som=\"pavithra\"\n",
    "sem=''\n",
    "for i in som:\n",
    "    sem+=ds[i]\n",
    "print(som,sem)\n",
    "    \n"
   ]
  },
  {
   "cell_type": "code",
   "execution_count": 21,
   "metadata": {},
   "outputs": [
    {
     "data": {
      "text/plain": [
       "{'a': 'w',\n",
       " 'b': 'x',\n",
       " 'c': 'y',\n",
       " 'd': 'z',\n",
       " 'e': 'a',\n",
       " 'f': 'b',\n",
       " 'g': 'c',\n",
       " 'h': 'd',\n",
       " 'i': 'e',\n",
       " 'j': 'f',\n",
       " 'k': 'g',\n",
       " 'l': 'h',\n",
       " 'm': 'i',\n",
       " 'n': 'j',\n",
       " 'o': 'k',\n",
       " 'p': 'l',\n",
       " 'q': 'm',\n",
       " 'r': 'n',\n",
       " 's': 'o',\n",
       " 't': 'p',\n",
       " 'u': 'q',\n",
       " 'v': 'r',\n",
       " 'w': 's',\n",
       " 'x': 't',\n",
       " 'y': 'u',\n",
       " 'z': 'v'}"
      ]
     },
     "execution_count": 21,
     "metadata": {},
     "output_type": "execute_result"
    }
   ],
   "source": [
    "se={}\n",
    "for i in range(97,123):\n",
    "    if i < 101 :\n",
    "        se[chr(i)]=chr(i+22)\n",
    "    else:\n",
    "        se[chr(i)]=chr(i-4)\n",
    "se"
   ]
  },
  {
   "cell_type": "code",
   "execution_count": 22,
   "metadata": {},
   "outputs": [
    {
     "name": "stdout",
     "output_type": "stream",
     "text": [
      "pavithra tezmxlve\n"
     ]
    }
   ],
   "source": [
    "sdm=\"\"\n",
    "for i in sem:\n",
    "    sdm+=se[i]\n",
    "print(sdm,sem)\n",
    "    "
   ]
  },
  {
   "cell_type": "code",
   "execution_count": 23,
   "metadata": {},
   "outputs": [
    {
     "data": {
      "text/plain": [
       "{0: 4, 1: 5, 2: 6, 3: 7, 4: 8, 5: 9, 6: 0, 7: 1, 8: 2, 9: 3}"
      ]
     },
     "execution_count": 23,
     "metadata": {},
     "output_type": "execute_result"
    }
   ],
   "source": [
    "nd={}\n",
    "for i in range(0,10):\n",
    "    if i > 5:\n",
    "        nd[i]=i-6\n",
    "    else:\n",
    "        nd[i]=i+4\n",
    "nd"
   ]
  },
  {
   "cell_type": "code",
   "execution_count": 49,
   "metadata": {},
   "outputs": [
    {
     "data": {
      "text/plain": [
       "{4: 0, 5: 1, 6: 2, 7: 3, 8: 4, 9: 5, 0: 6, 1: 7, 2: 8, 3: 9}"
      ]
     },
     "execution_count": 49,
     "metadata": {},
     "output_type": "execute_result"
    }
   ],
   "source": [
    "ne={}\n",
    "for i in range(0,10):\n",
    "    if i > 5:\n",
    "        ne[i-6]=i\n",
    "    else:\n",
    "        ne[i+4]=i\n",
    "nd"
   ]
  },
  {
   "cell_type": "code",
   "execution_count": 47,
   "metadata": {},
   "outputs": [],
   "source": [
    "dic={**d,**e,**nd,**se,**ds}"
   ]
  },
  {
   "cell_type": "code",
   "execution_count": 50,
   "metadata": {},
   "outputs": [],
   "source": [
    "encry={**e,**se,**ne}"
   ]
  },
  {
   "cell_type": "code",
   "execution_count": 51,
   "metadata": {},
   "outputs": [
    {
     "data": {
      "text/plain": [
       "{'A': 'W',\n",
       " 'B': 'X',\n",
       " 'C': 'Y',\n",
       " 'D': 'Z',\n",
       " 'E': 'A',\n",
       " 'F': 'B',\n",
       " 'G': 'C',\n",
       " 'H': 'D',\n",
       " 'I': 'E',\n",
       " 'J': 'F',\n",
       " 'K': 'G',\n",
       " 'L': 'H',\n",
       " 'M': 'I',\n",
       " 'N': 'J',\n",
       " 'O': 'K',\n",
       " 'P': 'L',\n",
       " 'Q': 'M',\n",
       " 'R': 'N',\n",
       " 'S': 'O',\n",
       " 'T': 'P',\n",
       " 'U': 'Q',\n",
       " 'V': 'R',\n",
       " 'W': 'S',\n",
       " 'X': 'T',\n",
       " 'Y': 'U',\n",
       " 'Z': 'V',\n",
       " 'a': 'w',\n",
       " 'b': 'x',\n",
       " 'c': 'y',\n",
       " 'd': 'z',\n",
       " 'e': 'a',\n",
       " 'f': 'b',\n",
       " 'g': 'c',\n",
       " 'h': 'd',\n",
       " 'i': 'e',\n",
       " 'j': 'f',\n",
       " 'k': 'g',\n",
       " 'l': 'h',\n",
       " 'm': 'i',\n",
       " 'n': 'j',\n",
       " 'o': 'k',\n",
       " 'p': 'l',\n",
       " 'q': 'm',\n",
       " 'r': 'n',\n",
       " 's': 'o',\n",
       " 't': 'p',\n",
       " 'u': 'q',\n",
       " 'v': 'r',\n",
       " 'w': 's',\n",
       " 'x': 't',\n",
       " 'y': 'u',\n",
       " 'z': 'v',\n",
       " 4: 0,\n",
       " 5: 1,\n",
       " 6: 2,\n",
       " 7: 3,\n",
       " 8: 4,\n",
       " 9: 5,\n",
       " 0: 6,\n",
       " 1: 7,\n",
       " 2: 8,\n",
       " 3: 9}"
      ]
     },
     "execution_count": 51,
     "metadata": {},
     "output_type": "execute_result"
    }
   ],
   "source": [
    "encry"
   ]
  },
  {
   "cell_type": "code",
   "execution_count": 52,
   "metadata": {},
   "outputs": [],
   "source": [
    "decry={**d,**ds,**ne}"
   ]
  },
  {
   "cell_type": "code",
   "execution_count": 53,
   "metadata": {},
   "outputs": [
    {
     "data": {
      "text/plain": [
       "{'A': 'E',\n",
       " 'B': 'F',\n",
       " 'C': 'G',\n",
       " 'D': 'H',\n",
       " 'E': 'I',\n",
       " 'F': 'J',\n",
       " 'G': 'K',\n",
       " 'H': 'L',\n",
       " 'I': 'M',\n",
       " 'J': 'N',\n",
       " 'K': 'O',\n",
       " 'L': 'P',\n",
       " 'M': 'Q',\n",
       " 'N': 'R',\n",
       " 'O': 'S',\n",
       " 'P': 'T',\n",
       " 'Q': 'U',\n",
       " 'R': 'V',\n",
       " 'S': 'W',\n",
       " 'T': 'X',\n",
       " 'U': 'Y',\n",
       " 'V': 'Z',\n",
       " 'W': 'A',\n",
       " 'X': 'B',\n",
       " 'Y': 'C',\n",
       " 'Z': 'D',\n",
       " 'a': 'e',\n",
       " 'b': 'f',\n",
       " 'c': 'g',\n",
       " 'd': 'h',\n",
       " 'e': 'i',\n",
       " 'f': 'j',\n",
       " 'g': 'k',\n",
       " 'h': 'l',\n",
       " 'i': 'm',\n",
       " 'j': 'n',\n",
       " 'k': 'o',\n",
       " 'l': 'p',\n",
       " 'm': 'q',\n",
       " 'n': 'r',\n",
       " 'o': 's',\n",
       " 'p': 't',\n",
       " 'q': 'u',\n",
       " 'r': 'v',\n",
       " 's': 'w',\n",
       " 't': 'x',\n",
       " 'u': 'y',\n",
       " 'v': 'z',\n",
       " 'w': 'a',\n",
       " 'x': 'b',\n",
       " 'y': 'c',\n",
       " 'z': 'd',\n",
       " 4: 0,\n",
       " 5: 1,\n",
       " 6: 2,\n",
       " 7: 3,\n",
       " 8: 4,\n",
       " 9: 5,\n",
       " 0: 6,\n",
       " 1: 7,\n",
       " 2: 8,\n",
       " 3: 9}"
      ]
     },
     "execution_count": 53,
     "metadata": {},
     "output_type": "execute_result"
    }
   ],
   "source": [
    "decry"
   ]
  },
  {
   "cell_type": "code",
   "execution_count": null,
   "metadata": {},
   "outputs": [],
   "source": []
  }
 ],
 "metadata": {
  "kernelspec": {
   "display_name": "Python 3",
   "language": "python",
   "name": "python3"
  },
  "language_info": {
   "codemirror_mode": {
    "name": "ipython",
    "version": 3
   },
   "file_extension": ".py",
   "mimetype": "text/x-python",
   "name": "python",
   "nbconvert_exporter": "python",
   "pygments_lexer": "ipython3",
   "version": "3.7.3"
  }
 },
 "nbformat": 4,
 "nbformat_minor": 2
}
