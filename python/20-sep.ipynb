{
 "cells": [
  {
   "cell_type": "markdown",
   "metadata": {},
   "source": [
    "# FUNCTIONS\n",
    "\n"
   ]
  },
  {
   "cell_type": "code",
   "execution_count": 2,
   "metadata": {},
   "outputs": [
    {
     "name": "stdout",
     "output_type": "stream",
     "text": [
      "hii\n",
      "over\n"
     ]
    }
   ],
   "source": [
    "def function():\n",
    "    print(\"hii\")\n",
    "function()\n",
    "print(\"over\")\n",
    "\n",
    "\n",
    "    "
   ]
  },
  {
   "cell_type": "code",
   "execution_count": 33,
   "metadata": {},
   "outputs": [
    {
     "name": "stdout",
     "output_type": "stream",
     "text": [
      "hii\n",
      "over\n"
     ]
    }
   ],
   "source": [
    "\n",
    "def function2():\n",
    "    print(\"hii\")\n",
    "function2()\n",
    "print(\"over\")\n"
   ]
  },
  {
   "cell_type": "code",
   "execution_count": 9,
   "metadata": {},
   "outputs": [
    {
     "name": "stdout",
     "output_type": "stream",
     "text": [
      " i am using without passing arguments and without return function\n",
      "*****over******\n"
     ]
    }
   ],
   "source": [
    "# without passing arguments and without return\n",
    "def function():\n",
    "    print(\" i am using without passing arguments and without return function\")\n",
    "function()\n",
    "print(\"*****over******\")\n",
    "\n"
   ]
  },
  {
   "cell_type": "code",
   "execution_count": 12,
   "metadata": {},
   "outputs": [
    {
     "name": "stdout",
     "output_type": "stream",
     "text": [
      "sum of two numbers is : 7\n"
     ]
    }
   ],
   "source": [
    "#with passing arguments and without return\n",
    "def add(num1,num2):\n",
    "    print( \"sum of two numbers is :\",num1+num2)\n",
    "add(2,5)"
   ]
  },
  {
   "cell_type": "code",
   "execution_count": 10,
   "metadata": {},
   "outputs": [
    {
     "name": "stdout",
     "output_type": "stream",
     "text": [
      "i am using without passing arguments and with return function\n"
     ]
    },
    {
     "data": {
      "text/plain": [
       "'i am using without passing arguments and with return function'"
      ]
     },
     "execution_count": 10,
     "metadata": {},
     "output_type": "execute_result"
    }
   ],
   "source": [
    "#without passing arguments and  return\n",
    "def second_type():\n",
    "    return \"i am using without passing arguments and with return function\"\n",
    "print(second_type())    # we can print directly using print \n",
    "r=second_type()              #      (or)\n",
    "r                       #   we can store the return value amd print it"
   ]
  },
  {
   "cell_type": "code",
   "execution_count": 19,
   "metadata": {},
   "outputs": [
    {
     "name": "stdout",
     "output_type": "stream",
     "text": [
      "enter  n1 value:3\n",
      "enter n2 value:6\n",
      "multiplication of two numbers: 18\n"
     ]
    }
   ],
   "source": [
    "#with  passing arguments and  return                                                                         \n",
    "def mul(num1,num2):\n",
    "    return num1*num2\n",
    "n1=int(input(\"enter  n1 value:\"))\n",
    "n2=int(input(\"enter n2 value:\"))\n",
    "print(\"multiplication of two numbers:\",mul(n1,n2))\n"
   ]
  },
  {
   "cell_type": "code",
   "execution_count": 21,
   "metadata": {},
   "outputs": [
    {
     "name": "stdout",
     "output_type": "stream",
     "text": [
      "enter  n1 value:3\n",
      "enter n2 value:9\n",
      "sum of two numbers: 12\n",
      "subtraction of two numbers: -6\n",
      "multiplication of two numbers: 27\n",
      "division of two numbers: 0.3333333333333333\n",
      "modulus of two numbers: 3\n",
      "floor division of two numbers: 0\n",
      "Exponent of two numbers: 19683\n"
     ]
    }
   ],
   "source": [
    "# **********************PERFORMING ARITHEMATIC OPERATIONS USING PASSING ARGUMENTS AND RETURN TYPE****************************\n",
    "def add(num1,num2):\n",
    "    return num1+num2\n",
    "def sub(num1,num2):\n",
    "    return num1-num2\n",
    "def mul(num1,num2):\n",
    "    return num1*num2\n",
    "def div(num1,num2):\n",
    "    return num1/num2\n",
    "def mod(num1,num2):\n",
    "    return num1%num2\n",
    "def fdiv(num1,num2):\n",
    "    return num1//num2\n",
    "def expo(num1,num2):\n",
    "    return num1**num2\n",
    "n1=int(input(\"enter  n1 value:\"))\n",
    "n2=int(input(\"enter n2 value:\"))\n",
    "print(\"sum of two numbers:\",add(n1,n2))\n",
    "print(\"subtraction of two numbers:\",sub(n1,n2))\n",
    "print(\"multiplication of two numbers:\",mul(n1,n2))\n",
    "print(\"division of two numbers:\",div(n1,n2))\n",
    "print(\"modulus of two numbers:\",mod(n1,n2))\n",
    "print(\"floor division of two numbers:\",fdiv(n1,n2))\n",
    "print(\"Exponent of two numbers:\",expo(n1,n2))"
   ]
  },
  {
   "cell_type": "markdown",
   "metadata": {},
   "source": [
    "# IN PYTHON WE CAN USE FOUR MORE WAYS OF USER DEFINED IN FUNCTION"
   ]
  },
  {
   "cell_type": "code",
   "execution_count": 29,
   "metadata": {},
   "outputs": [
    {
     "name": "stdout",
     "output_type": "stream",
     "text": [
      "hai hello*******welcome to MSTP\n"
     ]
    }
   ],
   "source": [
    "#***********************************************1.DEFAULT ARGUMENTS*******************************************************\n",
    "#                   EXAMPLE ONE   \n",
    "print(\"hai\",end=\" \")                        # end=\" \" is used to change the default attributr of print\n",
    "print(\"hello\",end=\"*******\")                # here we are using space ,this stops print function to print in the next line\n",
    "print(\"welcome to MSTP\")                    # any thing can be places in end ,that will dispalyed at end"
   ]
  },
  {
   "cell_type": "code",
   "execution_count": 31,
   "metadata": {},
   "outputs": [
    {
     "name": "stdout",
     "output_type": "stream",
     "text": [
      "5\n",
      "7 11\n"
     ]
    }
   ],
   "source": [
    "#                 EXMAPLE TWO   \n",
    "def add(n1=0,n2=0,n3=0,n4=0):\n",
    "    return n1+n2+n3+n4            # here we can pass the arguments from minimum one value to maximun 4 values\n",
    "print(add(5))                    #if we pass more than the limit that we assign ,we will get an error \n",
    "print(add(1,2,4),add(5,6))"
   ]
  },
  {
   "cell_type": "code",
   "execution_count": 34,
   "metadata": {},
   "outputs": [
    {
     "ename": "TypeError",
     "evalue": "range expected 1 arguments, got 0",
     "output_type": "error",
     "traceback": [
      "\u001b[1;31m---------------------------------------------------------------------------\u001b[0m",
      "\u001b[1;31mTypeError\u001b[0m                                 Traceback (most recent call last)",
      "\u001b[1;32m<ipython-input-34-ee09baf7dc87>\u001b[0m in \u001b[0;36m<module>\u001b[1;34m\u001b[0m\n\u001b[0;32m      1\u001b[0m \u001b[1;31m#***********************************************2.REQUIRED ARGUMENTS******************************************************\u001b[0m\u001b[1;33m\u001b[0m\u001b[1;33m\u001b[0m\u001b[1;33m\u001b[0m\u001b[0m\n\u001b[1;32m----> 2\u001b[1;33m \u001b[0mrange\u001b[0m\u001b[1;33m(\u001b[0m\u001b[1;33m)\u001b[0m\u001b[1;33m\u001b[0m\u001b[1;33m\u001b[0m\u001b[0m\n\u001b[0m",
      "\u001b[1;31mTypeError\u001b[0m: range expected 1 arguments, got 0"
     ]
    }
   ],
   "source": [
    "#***********************************************2.REQUIRED ARGUMENTS*************************************************\n",
    "     #                            Example one\n",
    "range()"
   ]
  },
  {
   "cell_type": "code",
   "execution_count": 35,
   "metadata": {},
   "outputs": [
    {
     "name": "stdout",
     "output_type": "stream",
     "text": [
      "enter  n1 value:1\n",
      "enter n2 value:2\n"
     ]
    },
    {
     "ename": "TypeError",
     "evalue": "mul() missing 1 required positional argument: 'num2'",
     "output_type": "error",
     "traceback": [
      "\u001b[1;31m---------------------------------------------------------------------------\u001b[0m",
      "\u001b[1;31mTypeError\u001b[0m                                 Traceback (most recent call last)",
      "\u001b[1;32m<ipython-input-35-98d5d2afbd1f>\u001b[0m in \u001b[0;36m<module>\u001b[1;34m\u001b[0m\n\u001b[0;32m      3\u001b[0m \u001b[0mn1\u001b[0m\u001b[1;33m=\u001b[0m\u001b[0mint\u001b[0m\u001b[1;33m(\u001b[0m\u001b[0minput\u001b[0m\u001b[1;33m(\u001b[0m\u001b[1;34m\"enter  n1 value:\"\u001b[0m\u001b[1;33m)\u001b[0m\u001b[1;33m)\u001b[0m\u001b[1;33m\u001b[0m\u001b[1;33m\u001b[0m\u001b[0m\n\u001b[0;32m      4\u001b[0m \u001b[0mn2\u001b[0m\u001b[1;33m=\u001b[0m\u001b[0mint\u001b[0m\u001b[1;33m(\u001b[0m\u001b[0minput\u001b[0m\u001b[1;33m(\u001b[0m\u001b[1;34m\"enter n2 value:\"\u001b[0m\u001b[1;33m)\u001b[0m\u001b[1;33m)\u001b[0m\u001b[1;33m\u001b[0m\u001b[1;33m\u001b[0m\u001b[0m\n\u001b[1;32m----> 5\u001b[1;33m \u001b[0mprint\u001b[0m\u001b[1;33m(\u001b[0m\u001b[1;34m\"multiplication of two numbers:\"\u001b[0m\u001b[1;33m,\u001b[0m\u001b[0mmul\u001b[0m\u001b[1;33m(\u001b[0m\u001b[0mn1\u001b[0m\u001b[1;33m)\u001b[0m\u001b[1;33m)\u001b[0m\u001b[1;33m\u001b[0m\u001b[1;33m\u001b[0m\u001b[0m\n\u001b[0m",
      "\u001b[1;31mTypeError\u001b[0m: mul() missing 1 required positional argument: 'num2'"
     ]
    }
   ],
   "source": [
    "#                   Example Two\n",
    "def mul(num1,num2):\n",
    "    return num1*num2\n",
    "n1=int(input(\"enter  n1 value:\"))\n",
    "n2=int(input(\"enter n2 value:\"))\n",
    "print(\"multiplication of two numbers:\",mul(n1))\n"
   ]
  },
  {
   "cell_type": "code",
   "execution_count": 37,
   "metadata": {},
   "outputs": [
    {
     "name": "stdout",
     "output_type": "stream",
     "text": [
      "9\n"
     ]
    }
   ],
   "source": [
    "#*********************************************3.KEYWORD ARGUMENTS*********************************************************\n",
    "# Example for keyword argument is print(end=\" \")\n",
    "# another example\n",
    "def power(base,expo=0):          # here we are passing arguments with out following order ,based  on the argument name we are passing values to the function\n",
    "    return base**expo\n",
    "print(power(expo=2,base=3))"
   ]
  },
  {
   "cell_type": "code",
   "execution_count": 42,
   "metadata": {},
   "outputs": [
    {
     "name": "stdout",
     "output_type": "stream",
     "text": [
      "6 <class 'list'>\n",
      "21\n"
     ]
    }
   ],
   "source": [
    "#********************************************4.VARIABLE LENGTH ARGUMENTS***********************************************\n",
    "def sm(vals):\n",
    "    print(len(vals),type(vals))\n",
    "    print(sum(vals))\n",
    "sm([1,2,3,4,5,6])\n"
   ]
  },
  {
   "cell_type": "code",
   "execution_count": 39,
   "metadata": {},
   "outputs": [
    {
     "ename": "NameError",
     "evalue": "name 'vals' is not defined",
     "output_type": "error",
     "traceback": [
      "\u001b[1;31m---------------------------------------------------------------------------\u001b[0m",
      "\u001b[1;31mNameError\u001b[0m                                 Traceback (most recent call last)",
      "\u001b[1;32m<ipython-input-39-93096f0698da>\u001b[0m in \u001b[0;36m<module>\u001b[1;34m\u001b[0m\n\u001b[1;32m----> 1\u001b[1;33m \u001b[0mprint\u001b[0m\u001b[1;33m(\u001b[0m\u001b[0msum\u001b[0m\u001b[1;33m(\u001b[0m\u001b[0mvals\u001b[0m\u001b[1;33m)\u001b[0m\u001b[1;33m)\u001b[0m\u001b[1;33m\u001b[0m\u001b[1;33m\u001b[0m\u001b[0m\n\u001b[0m",
      "\u001b[1;31mNameError\u001b[0m: name 'vals' is not defined"
     ]
    }
   ],
   "source": [
    "def sm(*vals):\n",
    "    print(len(vals),type(vals))\n",
    "    print(sum(vals))\n",
    "sm(1,2,3,4,5,6)\n"
   ]
  },
  {
   "cell_type": "markdown",
   "metadata": {},
   "source": [
    "# CONDITIONAL CONTROL STATEMENTS\n",
    "- IT CONTROLS THR FLOW OF EXECUTION OF PROGRAM BASED ON CONDITION \n",
    "- THERE ARE THREE TYPES\n",
    "    - Conditional statements \n",
    "        - if\n",
    "        - if else\n",
    "        - else if ladder.\n",
    "        - Nested if ladder\n",
    "    - iterative or looping statements\n",
    "    - jumping statements"
   ]
  },
  {
   "cell_type": "markdown",
   "metadata": {},
   "source": [
    "# Conditional statements"
   ]
  },
  {
   "cell_type": "code",
   "execution_count": 46,
   "metadata": {},
   "outputs": [
    {
     "name": "stdout",
     "output_type": "stream",
     "text": [
      "condition true\n"
     ]
    }
   ],
   "source": [
    "#******************************* IF  *********************************\n",
    "if (4<5):\n",
    "    print(\"condition true\")"
   ]
  },
  {
   "cell_type": "code",
   "execution_count": 48,
   "metadata": {},
   "outputs": [
    {
     "name": "stdout",
     "output_type": "stream",
     "text": [
      "condition false==>  else block\n"
     ]
    }
   ],
   "source": [
    " #*****************************  IF-ELSE  ***************************************\n",
    "if (6<5):\n",
    "    print(\"condition true==> if block\")\n",
    "else:\n",
    "    print(\"condition false==>  else block\")"
   ]
  },
  {
   "cell_type": "code",
   "execution_count": 50,
   "metadata": {},
   "outputs": [
    {
     "name": "stdout",
     "output_type": "stream",
     "text": [
      "u are in elif block\n"
     ]
    }
   ],
   "source": [
    "#****************************  else if ladder   *************************************\n",
    "if (6<5):\n",
    "    print(\"u r in if block\")\n",
    "elif (6<7):\n",
    "    print(\"u are in elif block\")\n",
    "else:\n",
    "    print(\"u r in else block\")"
   ]
  },
  {
   "cell_type": "code",
   "execution_count": null,
   "metadata": {},
   "outputs": [],
   "source": [
    "#****************************  nested if ladder   ************************************"
   ]
  }
 ],
 "metadata": {
  "kernelspec": {
   "display_name": "Python 3",
   "language": "python",
   "name": "python3"
  },
  "language_info": {
   "codemirror_mode": {
    "name": "ipython",
    "version": 3
   },
   "file_extension": ".py",
   "mimetype": "text/x-python",
   "name": "python",
   "nbconvert_exporter": "python",
   "pygments_lexer": "ipython3",
   "version": "3.7.3"
  }
 },
 "nbformat": 4,
 "nbformat_minor": 2
}
