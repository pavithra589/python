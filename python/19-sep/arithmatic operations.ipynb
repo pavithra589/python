{
 "cells": [
  {
   "cell_type": "code",
   "execution_count": 2,
   "metadata": {},
   "outputs": [
    {
     "name": "stdout",
     "output_type": "stream",
     "text": [
      "enter a value:1\n",
      "enter b value:9\n",
      "addition of two numbers= 10\n",
      "subtraction of two numbers= -8\n",
      "multiplication of two numbers= 9\n",
      "division of two numbers= 0.1111111111111111\n",
      "modulus of two numbers= 1\n",
      "exponent of two numbers= 1\n",
      "floor division of two numbers= 0\n"
     ]
    }
   ],
   "source": [
    "a=int(input(\"enter a value:\"))a=int(input(\"enter a value:\"))"
   ]
  },
  {
   "cell_type": "code",
   "execution_count": null,
   "metadata": {},
   "outputs": [],
   "source": []
  }
 ],
 "metadata": {
  "kernelspec": {
   "display_name": "Python 3",
   "language": "python",
   "name": "python3"
  },
  "language_info": {
   "codemirror_mode": {
    "name": "ipython",
    "version": 3
   },
   "file_extension": ".py",
   "mimetype": "text/x-python",
   "name": "python",
   "nbconvert_exporter": "python",
   "pygments_lexer": "ipython3",
   "version": "3.7.3"
  }
 },
 "nbformat": 4,
 "nbformat_minor": 2
}
